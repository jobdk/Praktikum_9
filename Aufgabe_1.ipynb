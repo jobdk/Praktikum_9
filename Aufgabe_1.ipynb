{
 "cells": [
  {
   "cell_type": "markdown",
   "metadata": {
    "pycharm": {
     "name": "#%% md\n"
    }
   },
   "source": [
    "Praktikum 9 -ImageReconstruction"
   ]
  },
  {
   "cell_type": "code",
   "execution_count": 16,
   "outputs": [],
   "source": [
    "import os\n",
    "import numpy as np\n",
    "from scipy.ndimage import rotate\n",
    "import glob\n",
    "import cv2\n",
    "from imutils import paths\n",
    "import imutils"
   ],
   "metadata": {
    "collapsed": false,
    "pycharm": {
     "name": "#%%\n"
    }
   }
  },
  {
   "cell_type": "markdown",
   "metadata": {
    "pycharm": {
     "name": "#%% md\n"
    }
   },
   "source": [
    "## Aufgabe 1"
   ]
  },
  {
   "cell_type": "code",
   "execution_count": 17,
   "outputs": [],
   "source": [
    "RAW_ROWS = 227\n",
    "RAW_COLUMNS = 198\n",
    "RAW_LEVELS = 129"
   ],
   "metadata": {
    "collapsed": false,
    "pycharm": {
     "name": "#%%\n"
    }
   }
  },
  {
   "cell_type": "code",
   "execution_count": 18,
   "outputs": [],
   "source": [
    "DIRECTORY_PATH: str = os.getcwd()"
   ],
   "metadata": {
    "collapsed": false,
    "pycharm": {
     "name": "#%%\n"
    }
   }
  },
  {
   "cell_type": "code",
   "execution_count": 19,
   "outputs": [],
   "source": [
    "def load_raw_file(file_name: str, levels, rows, columns):\n",
    "    raw = np.fromfile(DIRECTORY_PATH + file_name, dtype='int8')\n",
    "    numpy_raw = np.reshape(raw, (levels, rows, columns))\n",
    "    return numpy_raw"
   ],
   "metadata": {
    "collapsed": false,
    "pycharm": {
     "name": "#%%\n"
    }
   }
  },
  {
   "cell_type": "code",
   "execution_count": 20,
   "outputs": [],
   "source": [
    "# Alternative Art MIP auszurechnen, ohne numpy -> Ist jedoch deutlich langsamer, weswegen wir die numpy Alternative verwendet haben.\n",
    "def custom_mip_calc(raw, row_count, column_count):\n",
    "    flat_image = np.zeros((row_count, column_count), dtype=\"int8\")\n",
    "    for z in range(raw.shape[0]):\n",
    "        for y in range(raw.shape[1]):\n",
    "            for x in range(raw.shape[2]):\n",
    "                if raw[z, y, x] > flat_image[y, x]:\n",
    "                    flat_image[y, x] = raw[z, y, x]\n",
    "    return flat_image"
   ],
   "metadata": {
    "collapsed": false,
    "pycharm": {
     "name": "#%%\n"
    }
   }
  },
  {
   "cell_type": "code",
   "execution_count": 21,
   "outputs": [],
   "source": [
    "def save_xy_middle_slice(raw):\n",
    "    save_to_pgm(raw[int(RAW_LEVELS / 2), :, :], RAW_COLUMNS, RAW_ROWS, \"xy_middle_slice\")"
   ],
   "metadata": {
    "collapsed": false,
    "pycharm": {
     "name": "#%%\n"
    }
   }
  },
  {
   "cell_type": "code",
   "execution_count": 22,
   "outputs": [],
   "source": [
    "def save_xz_middle_slice(raw):\n",
    "    save_to_pgm(raw[:, int(RAW_ROWS / 2), :], RAW_COLUMNS, RAW_LEVELS, \"xz_middle_slice\")"
   ],
   "metadata": {
    "collapsed": false,
    "pycharm": {
     "name": "#%%\n"
    }
   }
  },
  {
   "cell_type": "code",
   "execution_count": 23,
   "outputs": [],
   "source": [
    "def save_yz_middle_slice(raw):\n",
    "    save_to_pgm(raw[:, :, int(RAW_COLUMNS / 2)], RAW_ROWS, RAW_LEVELS, \"yz_middle_slice\")"
   ],
   "metadata": {
    "collapsed": false,
    "pycharm": {
     "name": "#%%\n"
    }
   }
  },
  {
   "cell_type": "code",
   "execution_count": 24,
   "outputs": [],
   "source": [
    "def slices(raw):\n",
    "    save_xy_middle_slice(raw)\n",
    "    save_xz_middle_slice(raw)\n",
    "    save_yz_middle_slice(raw)"
   ],
   "metadata": {
    "collapsed": false,
    "pycharm": {
     "name": "#%%\n"
    }
   }
  },
  {
   "cell_type": "code",
   "execution_count": 25,
   "outputs": [],
   "source": [
    "def save_mip(raw):\n",
    "    save_to_pgm(np.max(raw, axis=0), RAW_COLUMNS, RAW_ROWS, \"maximum_intensity\")"
   ],
   "metadata": {
    "collapsed": false,
    "pycharm": {
     "name": "#%%\n"
    }
   }
  },
  {
   "cell_type": "code",
   "execution_count": 26,
   "outputs": [],
   "source": [
    "def save_to_pgm(image_array, width, height, file_name, folder=\"created_images_Aufgabe_1\"):\n",
    "    pgm_header = \"P5\\n\" + \" \" + str(width) + \" \" + str(height) + \" \" + str(255) + \"\\n\"\n",
    "    file = open(DIRECTORY_PATH + \"/\" + folder + \"/\" + file_name + \".pgm\", 'wb')\n",
    "    pgm_header_byte = bytearray(pgm_header, 'utf-8')\n",
    "    file.write(pgm_header_byte)\n",
    "    file.write(bytearray(image_array))\n",
    "    file.close()"
   ],
   "metadata": {
    "collapsed": false,
    "pycharm": {
     "name": "#%%\n"
    }
   }
  },
  {
   "cell_type": "code",
   "execution_count": 14,
   "outputs": [],
   "source": [
    "raw = load_raw_file(\"/images_for_reconstruction/whatisit_129x227x198_8bit.raw\",\n",
    "                    RAW_LEVELS,\n",
    "                    RAW_ROWS,\n",
    "                    RAW_COLUMNS)\n",
    "\n",
    "slices(raw)\n",
    "save_mip(raw)"
   ],
   "metadata": {
    "collapsed": false,
    "pycharm": {
     "name": "#%%\n"
    }
   }
  },
  {
   "cell_type": "markdown",
   "metadata": {
    "pycharm": {
     "name": "#%% md\n"
    }
   },
   "source": [
    "## Aufgabe 2"
   ]
  },
  {
   "cell_type": "code",
   "execution_count": 27,
   "outputs": [],
   "source": [
    "ARTEMISIA_RAW_ROWS = 138\n",
    "ARTEMISIA_RAW_COLUMNS = 138\n",
    "ARTEMISIA_RAW_LEVELS = 145"
   ],
   "metadata": {
    "collapsed": false,
    "pycharm": {
     "name": "#%%\n"
    }
   }
  },
  {
   "cell_type": "code",
   "execution_count": 28,
   "outputs": [],
   "source": [
    "raw = load_raw_file(\"/images_for_reconstruction/Artemisia_pollen_145x138x138_8bit.raw\",\n",
    "                    ARTEMISIA_RAW_LEVELS,\n",
    "                    ARTEMISIA_RAW_ROWS,\n",
    "                    ARTEMISIA_RAW_COLUMNS)"
   ],
   "metadata": {
    "collapsed": false,
    "pycharm": {
     "name": "#%%\n"
    }
   }
  },
  {
   "cell_type": "code",
   "execution_count": 29,
   "outputs": [
    {
     "name": "stdout",
     "output_type": "stream",
     "text": [
      "OUTPUT: 127\n",
      "OUTPUT_SHAPE: (145, 138, 138)\n"
     ]
    }
   ],
   "source": [
    "# Das sind tests um zu validieren, ob das Rotieren funktioniert.\n",
    "rotated = rotate(raw, angle=200, mode='nearest', axes=(1, 2), reshape=False, order=0)\n",
    "print(\"OUTPUT: \" + str(np.max(rotated)))\n",
    "print(\"OUTPUT_SHAPE: \" + str(rotated.shape))\n",
    "save_to_pgm(rotated[int(ARTEMISIA_RAW_LEVELS / 2), :, :], ARTEMISIA_RAW_COLUMNS, ARTEMISIA_RAW_ROWS, \"xy_pollen_test_3\",\n",
    "            \"created_movie_frames_Aufgabe_2/\")"
   ],
   "metadata": {
    "collapsed": false,
    "pycharm": {
     "name": "#%%\n"
    }
   }
  },
  {
   "cell_type": "code",
   "execution_count": 30,
   "outputs": [],
   "source": [
    "def generate_movie_frames(raw, degree_step: int = 1):\n",
    "    if 360 % degree_step != 0:\n",
    "        raise ValueError('Degree step is invalid.')\n",
    "\n",
    "    rotated_images = []\n",
    "    for degree in range(int(360 / degree_step)):\n",
    "        degree_string = str(degree * degree_step)\n",
    "        print(\"DEGREE: \" + degree_string)\n",
    "\n",
    "        movie_frame_name = \"movie_frame_\"\n",
    "        if len(degree_string) == 1:\n",
    "            movie_frame_name += movie_frame_name + \"00\" + degree_string\n",
    "        elif len(degree_string) == 2:\n",
    "            movie_frame_name += movie_frame_name + \"0\" + degree_string\n",
    "        else:\n",
    "            movie_frame_name += movie_frame_name + degree_string\n",
    "\n",
    "        rotated_image = rotate(raw, angle=degree * degree_step, mode='nearest', axes=(1, 2), reshape=False, order=0)\n",
    "        rotated_image_mip = np.max(rotated_image, axis=1).astype('int8')\n",
    "        rotated_images.append(rotated_image_mip)\n",
    "        save_to_pgm(rotated_image_mip,\n",
    "                    ARTEMISIA_RAW_COLUMNS,\n",
    "                    ARTEMISIA_RAW_ROWS,\n",
    "                    movie_frame_name,\n",
    "                    \"created_movie_frames_Aufgabe_2\")\n",
    "\n",
    "    return rotated_images"
   ],
   "metadata": {
    "collapsed": false,
    "pycharm": {
     "name": "#%%\n"
    }
   }
  },
  {
   "cell_type": "code",
   "execution_count": 31,
   "outputs": [],
   "source": [
    "def create_video(file_name: str = \"pollen\", folder_name: str = \"/created_movie_frames_Aufgabe_2\"):\n",
    "    movie_frames = []\n",
    "    [movie_frames.append(movie_frame) for movie_frame in\n",
    "     sorted(glob.glob(DIRECTORY_PATH + folder_name + \"/movie_frame*.pgm\"))]\n",
    "\n",
    "    out = cv2.VideoWriter(file_name + '.avi', cv2.VideoWriter_fourcc(*'DIVX'), 15,\n",
    "                          (ARTEMISIA_RAW_ROWS, ARTEMISIA_RAW_COLUMNS))\n",
    "    #out = cv2.VideoWriter(file_name + '.mp4', cv2.VideoWriter_fourcc(*'MP4V'), 15,\n",
    "    #                     (ARTEMISIA_RAW_ROWS, ARTEMISIA_RAW_COLUMNS))\n",
    "    for movie_frame in movie_frames:\n",
    "        out.write(cv2.imread(movie_frame))\n",
    "    out.release()"
   ],
   "metadata": {
    "collapsed": false,
    "pycharm": {
     "name": "#%%\n"
    }
   }
  },
  {
   "cell_type": "code",
   "execution_count": 32,
   "outputs": [
    {
     "name": "stdout",
     "output_type": "stream",
     "text": [
      "DEGREE: 0\n",
      "DEGREE: 1\n",
      "DEGREE: 2\n",
      "DEGREE: 3\n",
      "DEGREE: 4\n",
      "DEGREE: 5\n",
      "DEGREE: 6\n",
      "DEGREE: 7\n",
      "DEGREE: 8\n",
      "DEGREE: 9\n",
      "DEGREE: 10\n",
      "DEGREE: 11\n",
      "DEGREE: 12\n",
      "DEGREE: 13\n",
      "DEGREE: 14\n",
      "DEGREE: 15\n",
      "DEGREE: 16\n",
      "DEGREE: 17\n",
      "DEGREE: 18\n",
      "DEGREE: 19\n",
      "DEGREE: 20\n",
      "DEGREE: 21\n",
      "DEGREE: 22\n",
      "DEGREE: 23\n",
      "DEGREE: 24\n",
      "DEGREE: 25\n",
      "DEGREE: 26\n",
      "DEGREE: 27\n",
      "DEGREE: 28\n",
      "DEGREE: 29\n",
      "DEGREE: 30\n",
      "DEGREE: 31\n",
      "DEGREE: 32\n",
      "DEGREE: 33\n",
      "DEGREE: 34\n",
      "DEGREE: 35\n",
      "DEGREE: 36\n",
      "DEGREE: 37\n",
      "DEGREE: 38\n",
      "DEGREE: 39\n",
      "DEGREE: 40\n",
      "DEGREE: 41\n",
      "DEGREE: 42\n",
      "DEGREE: 43\n",
      "DEGREE: 44\n",
      "DEGREE: 45\n",
      "DEGREE: 46\n",
      "DEGREE: 47\n",
      "DEGREE: 48\n",
      "DEGREE: 49\n",
      "DEGREE: 50\n",
      "DEGREE: 51\n",
      "DEGREE: 52\n",
      "DEGREE: 53\n",
      "DEGREE: 54\n",
      "DEGREE: 55\n",
      "DEGREE: 56\n",
      "DEGREE: 57\n",
      "DEGREE: 58\n",
      "DEGREE: 59\n",
      "DEGREE: 60\n",
      "DEGREE: 61\n",
      "DEGREE: 62\n",
      "DEGREE: 63\n",
      "DEGREE: 64\n",
      "DEGREE: 65\n",
      "DEGREE: 66\n",
      "DEGREE: 67\n",
      "DEGREE: 68\n",
      "DEGREE: 69\n",
      "DEGREE: 70\n",
      "DEGREE: 71\n",
      "DEGREE: 72\n",
      "DEGREE: 73\n",
      "DEGREE: 74\n",
      "DEGREE: 75\n",
      "DEGREE: 76\n",
      "DEGREE: 77\n",
      "DEGREE: 78\n",
      "DEGREE: 79\n",
      "DEGREE: 80\n",
      "DEGREE: 81\n",
      "DEGREE: 82\n",
      "DEGREE: 83\n",
      "DEGREE: 84\n",
      "DEGREE: 85\n",
      "DEGREE: 86\n",
      "DEGREE: 87\n",
      "DEGREE: 88\n",
      "DEGREE: 89\n",
      "DEGREE: 90\n",
      "DEGREE: 91\n",
      "DEGREE: 92\n",
      "DEGREE: 93\n",
      "DEGREE: 94\n",
      "DEGREE: 95\n",
      "DEGREE: 96\n",
      "DEGREE: 97\n",
      "DEGREE: 98\n",
      "DEGREE: 99\n",
      "DEGREE: 100\n",
      "DEGREE: 101\n",
      "DEGREE: 102\n",
      "DEGREE: 103\n",
      "DEGREE: 104\n",
      "DEGREE: 105\n",
      "DEGREE: 106\n",
      "DEGREE: 107\n",
      "DEGREE: 108\n",
      "DEGREE: 109\n",
      "DEGREE: 110\n",
      "DEGREE: 111\n",
      "DEGREE: 112\n",
      "DEGREE: 113\n",
      "DEGREE: 114\n",
      "DEGREE: 115\n",
      "DEGREE: 116\n",
      "DEGREE: 117\n",
      "DEGREE: 118\n",
      "DEGREE: 119\n",
      "DEGREE: 120\n",
      "DEGREE: 121\n",
      "DEGREE: 122\n",
      "DEGREE: 123\n",
      "DEGREE: 124\n",
      "DEGREE: 125\n",
      "DEGREE: 126\n",
      "DEGREE: 127\n",
      "DEGREE: 128\n",
      "DEGREE: 129\n",
      "DEGREE: 130\n",
      "DEGREE: 131\n",
      "DEGREE: 132\n",
      "DEGREE: 133\n",
      "DEGREE: 134\n",
      "DEGREE: 135\n",
      "DEGREE: 136\n",
      "DEGREE: 137\n",
      "DEGREE: 138\n",
      "DEGREE: 139\n",
      "DEGREE: 140\n",
      "DEGREE: 141\n",
      "DEGREE: 142\n",
      "DEGREE: 143\n",
      "DEGREE: 144\n",
      "DEGREE: 145\n",
      "DEGREE: 146\n",
      "DEGREE: 147\n",
      "DEGREE: 148\n",
      "DEGREE: 149\n",
      "DEGREE: 150\n",
      "DEGREE: 151\n",
      "DEGREE: 152\n",
      "DEGREE: 153\n",
      "DEGREE: 154\n",
      "DEGREE: 155\n",
      "DEGREE: 156\n",
      "DEGREE: 157\n",
      "DEGREE: 158\n",
      "DEGREE: 159\n",
      "DEGREE: 160\n",
      "DEGREE: 161\n",
      "DEGREE: 162\n",
      "DEGREE: 163\n",
      "DEGREE: 164\n",
      "DEGREE: 165\n",
      "DEGREE: 166\n",
      "DEGREE: 167\n",
      "DEGREE: 168\n",
      "DEGREE: 169\n",
      "DEGREE: 170\n",
      "DEGREE: 171\n",
      "DEGREE: 172\n",
      "DEGREE: 173\n",
      "DEGREE: 174\n",
      "DEGREE: 175\n",
      "DEGREE: 176\n",
      "DEGREE: 177\n",
      "DEGREE: 178\n",
      "DEGREE: 179\n",
      "DEGREE: 180\n",
      "DEGREE: 181\n",
      "DEGREE: 182\n",
      "DEGREE: 183\n",
      "DEGREE: 184\n",
      "DEGREE: 185\n",
      "DEGREE: 186\n",
      "DEGREE: 187\n",
      "DEGREE: 188\n",
      "DEGREE: 189\n",
      "DEGREE: 190\n",
      "DEGREE: 191\n",
      "DEGREE: 192\n",
      "DEGREE: 193\n",
      "DEGREE: 194\n",
      "DEGREE: 195\n",
      "DEGREE: 196\n",
      "DEGREE: 197\n",
      "DEGREE: 198\n",
      "DEGREE: 199\n",
      "DEGREE: 200\n",
      "DEGREE: 201\n",
      "DEGREE: 202\n",
      "DEGREE: 203\n",
      "DEGREE: 204\n",
      "DEGREE: 205\n",
      "DEGREE: 206\n",
      "DEGREE: 207\n",
      "DEGREE: 208\n",
      "DEGREE: 209\n",
      "DEGREE: 210\n",
      "DEGREE: 211\n",
      "DEGREE: 212\n",
      "DEGREE: 213\n",
      "DEGREE: 214\n",
      "DEGREE: 215\n",
      "DEGREE: 216\n",
      "DEGREE: 217\n",
      "DEGREE: 218\n",
      "DEGREE: 219\n",
      "DEGREE: 220\n",
      "DEGREE: 221\n",
      "DEGREE: 222\n",
      "DEGREE: 223\n",
      "DEGREE: 224\n",
      "DEGREE: 225\n",
      "DEGREE: 226\n",
      "DEGREE: 227\n",
      "DEGREE: 228\n",
      "DEGREE: 229\n",
      "DEGREE: 230\n",
      "DEGREE: 231\n",
      "DEGREE: 232\n",
      "DEGREE: 233\n",
      "DEGREE: 234\n",
      "DEGREE: 235\n",
      "DEGREE: 236\n",
      "DEGREE: 237\n",
      "DEGREE: 238\n",
      "DEGREE: 239\n",
      "DEGREE: 240\n",
      "DEGREE: 241\n",
      "DEGREE: 242\n",
      "DEGREE: 243\n",
      "DEGREE: 244\n",
      "DEGREE: 245\n",
      "DEGREE: 246\n",
      "DEGREE: 247\n",
      "DEGREE: 248\n",
      "DEGREE: 249\n",
      "DEGREE: 250\n",
      "DEGREE: 251\n",
      "DEGREE: 252\n",
      "DEGREE: 253\n",
      "DEGREE: 254\n",
      "DEGREE: 255\n",
      "DEGREE: 256\n",
      "DEGREE: 257\n",
      "DEGREE: 258\n",
      "DEGREE: 259\n",
      "DEGREE: 260\n",
      "DEGREE: 261\n",
      "DEGREE: 262\n",
      "DEGREE: 263\n",
      "DEGREE: 264\n",
      "DEGREE: 265\n",
      "DEGREE: 266\n",
      "DEGREE: 267\n",
      "DEGREE: 268\n",
      "DEGREE: 269\n",
      "DEGREE: 270\n",
      "DEGREE: 271\n",
      "DEGREE: 272\n",
      "DEGREE: 273\n",
      "DEGREE: 274\n",
      "DEGREE: 275\n",
      "DEGREE: 276\n",
      "DEGREE: 277\n",
      "DEGREE: 278\n",
      "DEGREE: 279\n",
      "DEGREE: 280\n",
      "DEGREE: 281\n",
      "DEGREE: 282\n",
      "DEGREE: 283\n",
      "DEGREE: 284\n",
      "DEGREE: 285\n",
      "DEGREE: 286\n",
      "DEGREE: 287\n",
      "DEGREE: 288\n",
      "DEGREE: 289\n",
      "DEGREE: 290\n",
      "DEGREE: 291\n",
      "DEGREE: 292\n",
      "DEGREE: 293\n",
      "DEGREE: 294\n",
      "DEGREE: 295\n",
      "DEGREE: 296\n",
      "DEGREE: 297\n",
      "DEGREE: 298\n",
      "DEGREE: 299\n",
      "DEGREE: 300\n",
      "DEGREE: 301\n",
      "DEGREE: 302\n",
      "DEGREE: 303\n",
      "DEGREE: 304\n",
      "DEGREE: 305\n",
      "DEGREE: 306\n",
      "DEGREE: 307\n",
      "DEGREE: 308\n",
      "DEGREE: 309\n",
      "DEGREE: 310\n",
      "DEGREE: 311\n",
      "DEGREE: 312\n",
      "DEGREE: 313\n",
      "DEGREE: 314\n",
      "DEGREE: 315\n",
      "DEGREE: 316\n",
      "DEGREE: 317\n",
      "DEGREE: 318\n",
      "DEGREE: 319\n",
      "DEGREE: 320\n",
      "DEGREE: 321\n",
      "DEGREE: 322\n",
      "DEGREE: 323\n",
      "DEGREE: 324\n",
      "DEGREE: 325\n",
      "DEGREE: 326\n",
      "DEGREE: 327\n",
      "DEGREE: 328\n",
      "DEGREE: 329\n",
      "DEGREE: 330\n",
      "DEGREE: 331\n",
      "DEGREE: 332\n",
      "DEGREE: 333\n",
      "DEGREE: 334\n",
      "DEGREE: 335\n",
      "DEGREE: 336\n",
      "DEGREE: 337\n",
      "DEGREE: 338\n",
      "DEGREE: 339\n",
      "DEGREE: 340\n",
      "DEGREE: 341\n",
      "DEGREE: 342\n",
      "DEGREE: 343\n",
      "DEGREE: 344\n",
      "DEGREE: 345\n",
      "DEGREE: 346\n",
      "DEGREE: 347\n",
      "DEGREE: 348\n",
      "DEGREE: 349\n",
      "DEGREE: 350\n",
      "DEGREE: 351\n",
      "DEGREE: 352\n",
      "DEGREE: 353\n",
      "DEGREE: 354\n",
      "DEGREE: 355\n",
      "DEGREE: 356\n",
      "DEGREE: 357\n",
      "DEGREE: 358\n",
      "DEGREE: 359\n"
     ]
    },
    {
     "name": "stderr",
     "output_type": "stream",
     "text": [
      "OpenCV: FFMPEG: tag 0x5634504d/'MP4V' is not supported with codec id 12 and format 'mp4 / MP4 (MPEG-4 Part 14)'\n",
      "OpenCV: FFMPEG: fallback to use tag 0x7634706d/'mp4v'\n"
     ]
    }
   ],
   "source": [
    "generate_movie_frames(raw)\n",
    "create_video()"
   ],
   "metadata": {
    "collapsed": false,
    "pycharm": {
     "name": "#%%\n"
    }
   }
  },
  {
   "cell_type": "markdown",
   "metadata": {
    "pycharm": {
     "name": "#%% md\n"
    }
   },
   "source": [
    "## Aufgabe 3"
   ]
  },
  {
   "cell_type": "code",
   "execution_count": 23,
   "outputs": [],
   "source": [
    "def create_panorama(path_to_images, custom_images: bool):\n",
    "    # initialize images\n",
    "    image_paths = sorted(list(paths.list_images(path_to_images)))\n",
    "    images = []\n",
    "    # load images\n",
    "    for image_path in image_paths:\n",
    "        images.append(cv2.imread(image_path))\n",
    "\n",
    "    #initializing image stitcher\n",
    "    print(\"stitching images...\")\n",
    "    stitcher = cv2.createStitcher() if imutils.is_cv3() else cv2.Stitcher_create()\n",
    "    (status, stitched) = stitcher.stitch(images)\n",
    "\n",
    "    #check if stitching worked\n",
    "    if status == 0:\n",
    "        print(\"cropping...\")\n",
    "        stitched = cv2.copyMakeBorder(stitched, 10, 10, 10, 10,\n",
    "                                      cv2.BORDER_CONSTANT, (0, 0, 0))\n",
    "        # convert to gray-scale and threshold\n",
    "        gray = cv2.cvtColor(stitched, cv2.COLOR_BGR2GRAY)\n",
    "        thresh = cv2.threshold(gray, 0, 255, cv2.THRESH_BINARY)[1]\n",
    "\n",
    "        # find the largest contour to get outline of stitched image\n",
    "        contours = cv2.findContours(thresh.copy(),\n",
    "                                    cv2.RETR_EXTERNAL,\n",
    "                                    cv2.CHAIN_APPROX_SIMPLE)\n",
    "\n",
    "        contours = imutils.grab_contours(contours)\n",
    "        (x, y, w, h) = cv2.boundingRect(array=max(contours, key=cv2.contourArea))\n",
    "\n",
    "        mask = np.zeros(thresh.shape, dtype=\"uint8\")\n",
    "        cv2.rectangle(mask, (x, y), (x + w, y + h), 255, -1)\n",
    "        min_rect = mask.copy()\n",
    "        sub = mask.copy()\n",
    "\n",
    "        while cv2.countNonZero(sub) > 0:\n",
    "            # detect minimal mask for output image\n",
    "            min_rect = cv2.erode(min_rect, None)\n",
    "            sub = cv2.subtract(min_rect, thresh)\n",
    "\n",
    "        contours = cv2.findContours(min_rect.copy(),\n",
    "                                    cv2.RETR_EXTERNAL,\n",
    "                                    cv2.CHAIN_APPROX_SIMPLE)\n",
    "\n",
    "        contours = imutils.grab_contours(contours)\n",
    "        (x, y, w, h) = cv2.boundingRect(array=max(contours, key=cv2.contourArea))\n",
    "        # get output from minimal mask and stitched image\n",
    "        stitched = stitched[y:y + h, x:x + w]\n",
    "        if custom_images:\n",
    "            output_file_path = DIRECTORY_PATH + \"/result-custom-images\" + \".jpg\"\n",
    "        else:\n",
    "            output_file_path = DIRECTORY_PATH + \"/result-given-images\" + \".jpg\"\n",
    "        print(\"Writing result to: \" + output_file_path)\n",
    "        cv2.imwrite(output_file_path, stitched)\n",
    "        cv2.imshow(\"Stitched\", stitched)\n",
    "        cv2.waitKey(0)\n",
    "    else:\n",
    "        print(\"Error({})\".format(status))"
   ],
   "metadata": {
    "collapsed": false,
    "pycharm": {
     "name": "#%%\n"
    }
   }
  },
  {
   "cell_type": "code",
   "execution_count": null,
   "outputs": [
    {
     "name": "stdout",
     "output_type": "stream",
     "text": [
      "stitching images...\n",
      "cropping...\n",
      "Writing result to: /Users/john/Downloads/Praktikum_9/result-custom-images.jpg\n",
      "stitching images...\n",
      "cropping...\n",
      "Writing result to: /Users/john/Downloads/Praktikum_9/result-given-images.jpg\n"
     ]
    }
   ],
   "source": [
    "path_to_custom_images_directory = DIRECTORY_PATH + \"/panorama_images\"\n",
    "create_panorama(path_to_custom_images_directory, True)\n",
    "path_to_given_images_directory = DIRECTORY_PATH + \"/images_for_blending\"\n",
    "create_panorama(path_to_given_images_directory, False)"
   ],
   "metadata": {
    "collapsed": false,
    "pycharm": {
     "name": "#%%\n",
     "is_executing": true
    }
   }
  },
  {
   "cell_type": "code",
   "execution_count": null,
   "outputs": [],
   "source": [],
   "metadata": {
    "collapsed": false,
    "pycharm": {
     "name": "#%%\n"
    }
   }
  }
 ],
 "metadata": {
  "kernelspec": {
   "display_name": "Python 3 (ipykernel)",
   "language": "python",
   "name": "python3"
  },
  "language_info": {
   "codemirror_mode": {
    "name": "ipython",
    "version": 3
   },
   "file_extension": ".py",
   "mimetype": "text/x-python",
   "name": "python",
   "nbconvert_exporter": "python",
   "pygments_lexer": "ipython3",
   "version": "3.8.0"
  }
 },
 "nbformat": 4,
 "nbformat_minor": 1
}